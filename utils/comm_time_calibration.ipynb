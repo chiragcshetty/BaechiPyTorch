{
 "cells": [
  {
   "cell_type": "code",
   "execution_count": 1,
   "id": "a49029bd",
   "metadata": {},
   "outputs": [],
   "source": [
    "import torch\n",
    "import time\n",
    "\n",
    "from torch import optim, nn\n",
    "from importlib import reload\n",
    "import numpy as np\n",
    "\n",
    "import matplotlib.pyplot as plt"
   ]
  },
  {
   "cell_type": "code",
   "execution_count": null,
   "id": "edf5375f",
   "metadata": {},
   "outputs": [],
   "source": []
  },
  {
   "cell_type": "code",
   "execution_count": 2,
   "id": "1bab99cb",
   "metadata": {},
   "outputs": [],
   "source": [
    "def estimate_tensor_size(inp, unit='B'):\n",
    "    input_size = 0\n",
    "    if isinstance(inp, torch.Tensor): \n",
    "        input_size += float(torch.prod(torch.tensor(inp.size())))\n",
    "    if isinstance(inp, list): \n",
    "        for sub_inp in inp:\n",
    "            if isinstance(sub_inp, torch.Tensor): input_size += float(torch.prod(torch.tensor(sub_inp.size())))\n",
    "\n",
    "    input_size = input_size*torch.rand((1,1)).element_size() # multiply by 4\n",
    "    if unit == 'GB':\n",
    "        gb_mem = round(input_size/1024**3,8)\n",
    "        #print(\"Estimated Input/Output Memory:\",gb_mem, \"GB\")\n",
    "        return gb_mem\n",
    "    if unit == 'B':\n",
    "        gb_mem = input_size\n",
    "        #print(\"Estimated Input/Output Memory:\",gb_mem, \"B\")\n",
    "        return gb_mem\n",
    "    else:\n",
    "        mb_mem = round(input_size/1024**2,8)\n",
    "        #print(\"Estimated Input/Output Memory:\", mb_mem, \"MB\")\n",
    "        return mb_mem"
   ]
  },
  {
   "cell_type": "code",
   "execution_count": null,
   "id": "9191d7f0",
   "metadata": {},
   "outputs": [],
   "source": []
  },
  {
   "cell_type": "code",
   "execution_count": 3,
   "id": "a1df7f0b",
   "metadata": {},
   "outputs": [],
   "source": [
    "start_gpu = 0\n",
    "end_gpu   = 2\n",
    "N = 8\n",
    "\n",
    "batch_size = [1,4,8,16,32,64,128,256,1024,2048,4096, 8192]\n",
    "comp_size  = [1,1,1, 1, 1, 2,  4,  8,  8,  8, 16, 32]"
   ]
  },
  {
   "cell_type": "markdown",
   "id": "795cc9be",
   "metadata": {},
   "source": [
    "## Comm time without any compute"
   ]
  },
  {
   "cell_type": "code",
   "execution_count": 4,
   "id": "9f568cff",
   "metadata": {},
   "outputs": [
    {
     "name": "stdout",
     "output_type": "stream",
     "text": [
      "1\n",
      "4\n",
      "8\n",
      "16\n",
      "32\n",
      "64\n",
      "128\n",
      "256\n",
      "1024\n",
      "2048\n",
      "4096\n",
      "8192\n"
     ]
    }
   ],
   "source": [
    "d = {}\n",
    "for n in batch_size:\n",
    "    #dummy = torch.rand((n*2500,10, 64))\n",
    "    print(n)\n",
    "    \n",
    "    times = []\n",
    "    for i in range(N):\n",
    "        dummy = torch.rand((n,300,300))\n",
    "        dsize = estimate_tensor_size(dummy)\n",
    "        dummy0 = dummy.to(start_gpu)\n",
    "        torch.cuda.synchronize(start_gpu);torch.cuda.synchronize(end_gpu);\n",
    "        \n",
    "        start = time.time()\n",
    "        dummy1 = dummy0.to(end_gpu)\n",
    "        torch.cuda.synchronize(start_gpu);torch.cuda.synchronize(end_gpu);\n",
    "        end = time.time()\n",
    "        times.append(1000*(end-start))\n",
    "\n",
    "    comm_time = np.mean(times[round(N/4):])\n",
    "    \n",
    "    del dummy1\n",
    "    del dummy0\n",
    "    torch.cuda.empty_cache()\n",
    "    \n",
    "    d[dsize] = comm_time"
   ]
  },
  {
   "cell_type": "code",
   "execution_count": 5,
   "id": "3f64093e",
   "metadata": {},
   "outputs": [
    {
     "data": {
      "image/png": "[encoded data removed]",
      "text/plain": [
       "<Figure size 432x288 with 1 Axes>"
      ]
     },
     "metadata": {
      "needs_background": "light"
     },
     "output_type": "display_data"
    }
   ],
   "source": [
    "import matplotlib.pylab as plt\n",
    "lists = sorted(d.items()) # sorted by key, return a list of tuples\n",
    "x, y = zip(*lists) # unpack a list of pairs into two tuples\n",
    "plt.plot(x, y, '-*')\n",
    "plt.show()"
   ]
  },
  {
   "cell_type": "code",
   "execution_count": 6,
   "id": "de716f24",
   "metadata": {},
   "outputs": [
    {
     "data": {
      "text/plain": [
       "array([ 1.76009695e-07, -2.32223659e-01])"
      ]
     },
     "execution_count": 6,
     "metadata": {},
     "output_type": "execute_result"
    }
   ],
   "source": [
    "z = np.polyfit(x, y, 1)\n",
    "z"
   ]
  },
  {
   "cell_type": "markdown",
   "id": "7275b5ef",
   "metadata": {},
   "source": [
    "### Across all device pairs"
   ]
  },
  {
   "cell_type": "code",
   "execution_count": 4,
   "id": "e93405d0",
   "metadata": {},
   "outputs": [
    {
     "name": "stdout",
     "output_type": "stream",
     "text": [
      "Start GPU: 0  | End GPU: 0\n",
      "1\n",
      "4\n",
      "8\n",
      "16\n",
      "32\n",
      "64\n",
      "128\n",
      "256\n",
      "1024\n",
      "2048\n",
      "4096\n",
      "8192\n",
      "m =  3.3941669109807436e-12  | c =  0.013692598558502226\n",
      "------------------------------\n",
      "Start GPU: 0  | End GPU: 1\n",
      "1\n",
      "4\n",
      "8\n",
      "16\n",
      "32\n",
      "64\n",
      "128\n",
      "256\n",
      "1024\n",
      "2048\n",
      "4096\n",
      "8192\n",
      "m =  1.737654300986984e-07  | c =  0.032414997576415555\n",
      "------------------------------\n",
      "Start GPU: 0  | End GPU: 2\n",
      "1\n",
      "4\n",
      "8\n",
      "16\n",
      "32\n",
      "64\n",
      "128\n",
      "256\n",
      "1024\n",
      "2048\n",
      "4096\n",
      "8192\n",
      "m =  1.760861748889708e-07  | c =  -0.23902320874077293\n",
      "------------------------------\n",
      "Start GPU: 0  | End GPU: 3\n",
      "1\n",
      "4\n",
      "8\n",
      "16\n",
      "32\n",
      "64\n",
      "128\n",
      "256\n",
      "1024\n",
      "2048\n",
      "4096\n",
      "8192\n",
      "m =  1.7606075971425704e-07  | c =  -0.21338361804331554\n",
      "------------------------------\n",
      "Start GPU: 1  | End GPU: 0\n",
      "1\n",
      "4\n",
      "8\n",
      "16\n",
      "32\n",
      "64\n",
      "128\n",
      "256\n",
      "1024\n",
      "2048\n",
      "4096\n",
      "8192\n",
      "m =  1.7339037312513723e-07  | c =  0.3082001034541081\n",
      "------------------------------\n",
      "Start GPU: 1  | End GPU: 1\n",
      "1\n",
      "4\n",
      "8\n",
      "16\n",
      "32\n",
      "64\n",
      "128\n",
      "256\n",
      "1024\n",
      "2048\n",
      "4096\n",
      "8192\n",
      "m =  4.832507827267787e-12  | c =  0.018464983964587883\n",
      "------------------------------\n",
      "Start GPU: 1  | End GPU: 2\n",
      "1\n",
      "4\n",
      "8\n",
      "16\n",
      "32\n",
      "64\n",
      "128\n",
      "256\n",
      "1024\n",
      "2048\n",
      "4096\n",
      "8192\n",
      "m =  1.759964448129804e-07  | c =  -0.2289786909084238\n",
      "------------------------------\n",
      "Start GPU: 1  | End GPU: 3\n",
      "1\n",
      "4\n",
      "8\n",
      "16\n",
      "32\n",
      "64\n",
      "128\n",
      "256\n",
      "1024\n",
      "2048\n",
      "4096\n",
      "8192\n",
      "m =  1.7595347642378937e-07  | c =  -0.22445372686700885\n",
      "------------------------------\n",
      "Start GPU: 2  | End GPU: 0\n",
      "1\n",
      "4\n",
      "8\n",
      "16\n",
      "32\n",
      "64\n",
      "128\n",
      "256\n",
      "1024\n",
      "2048\n",
      "4096\n",
      "8192\n",
      "m =  1.7591202855401772e-07  | c =  -0.28877743411475554\n",
      "------------------------------\n",
      "Start GPU: 2  | End GPU: 1\n",
      "1\n",
      "4\n",
      "8\n",
      "16\n",
      "32\n",
      "64\n",
      "128\n",
      "256\n",
      "1024\n",
      "2048\n",
      "4096\n",
      "8192\n",
      "m =  1.7608629499265389e-07  | c =  -0.26174008562330237\n",
      "------------------------------\n",
      "Start GPU: 2  | End GPU: 2\n",
      "1\n",
      "4\n",
      "8\n",
      "16\n",
      "32\n",
      "64\n",
      "128\n",
      "256\n",
      "1024\n",
      "2048\n",
      "4096\n",
      "8192\n",
      "m =  3.4624866175437538e-12  | c =  0.019597358489258514\n",
      "------------------------------\n",
      "Start GPU: 2  | End GPU: 3\n",
      "1\n",
      "4\n",
      "8\n",
      "16\n",
      "32\n",
      "64\n",
      "128\n",
      "256\n",
      "1024\n",
      "2048\n",
      "4096\n",
      "8192\n",
      "m =  1.7381657139612682e-07  | c =  0.0030183221494870815\n",
      "------------------------------\n",
      "Start GPU: 3  | End GPU: 0\n",
      "1\n",
      "4\n",
      "8\n",
      "16\n",
      "32\n",
      "64\n",
      "128\n",
      "256\n",
      "1024\n",
      "2048\n",
      "4096\n",
      "8192\n",
      "m =  1.759947482867644e-07  | c =  -0.2785733755686552\n",
      "------------------------------\n",
      "Start GPU: 3  | End GPU: 1\n",
      "1\n",
      "4\n",
      "8\n",
      "16\n",
      "32\n",
      "64\n",
      "128\n",
      "256\n",
      "1024\n",
      "2048\n",
      "4096\n",
      "8192\n",
      "m =  1.759706182702744e-07  | c =  -0.24525063041551207\n",
      "------------------------------\n",
      "Start GPU: 3  | End GPU: 2\n",
      "1\n",
      "4\n",
      "8\n",
      "16\n",
      "32\n",
      "64\n",
      "128\n",
      "256\n",
      "1024\n",
      "2048\n",
      "4096\n",
      "8192\n",
      "m =  1.7377734103450106e-07  | c =  0.04731478355461986\n",
      "------------------------------\n",
      "Start GPU: 3  | End GPU: 3\n",
      "1\n",
      "4\n",
      "8\n",
      "16\n",
      "32\n",
      "64\n",
      "128\n",
      "256\n",
      "1024\n",
      "2048\n",
      "4096\n",
      "8192\n",
      "m =  3.1180954837111736e-12  | c =  0.018853997628094577\n",
      "------------------------------\n"
     ]
    }
   ],
   "source": [
    "gpu_ids = [0,1,2,3]\n",
    "L = len(gpu_ids)\n",
    "M = np.zeros((L,L))\n",
    "C = np.zeros((L,L))\n",
    "\n",
    "\n",
    "for start_gpu  in gpu_ids:\n",
    "    for end_gpu in gpu_ids:    \n",
    "        d = {}\n",
    "        print(\"Start GPU:\", start_gpu, \" | End GPU:\", end_gpu)\n",
    "        for n in batch_size:\n",
    "            #dummy = torch.rand((n*2500,10, 64))\n",
    "            print(n)\n",
    "\n",
    "            times = []\n",
    "            for i in range(N):\n",
    "                dummy = torch.rand((n,300,300))\n",
    "                dsize = estimate_tensor_size(dummy)\n",
    "                dummy0 = dummy.to(start_gpu)\n",
    "                torch.cuda.synchronize(start_gpu);torch.cuda.synchronize(end_gpu);\n",
    "\n",
    "                start = time.time()\n",
    "                dummy1 = dummy0.to(end_gpu)\n",
    "                torch.cuda.synchronize(start_gpu);torch.cuda.synchronize(end_gpu);\n",
    "                end = time.time()\n",
    "                times.append(1000*(end-start))\n",
    "\n",
    "            comm_time = np.mean(times[round(N/4):])\n",
    "\n",
    "            del dummy1\n",
    "            del dummy0\n",
    "            torch.cuda.empty_cache()\n",
    "\n",
    "            d[dsize] = comm_time\n",
    "            \n",
    "        lists = sorted(d.items()) # sorted by key, return a list of tuples\n",
    "        x, y = zip(*lists)       # unpack a list of pairs into two tuples   \n",
    "        z = np.polyfit(x, y, 1)\n",
    "        M[start_gpu][end_gpu] = z[0]\n",
    "        C[start_gpu][end_gpu] = z[1]\n",
    "        print(\"m = \", z[0], \" | c = \", z[1])\n",
    "        print(\"-\"*30)"
   ]
  },
  {
   "cell_type": "code",
   "execution_count": 5,
   "id": "bcfc92e7",
   "metadata": {},
   "outputs": [
    {
     "name": "stdout",
     "output_type": "stream",
     "text": [
      "[[3.39416691e-12 1.73765430e-07 1.76086175e-07 1.76060760e-07]\n",
      " [1.73390373e-07 4.83250783e-12 1.75996445e-07 1.75953476e-07]\n",
      " [1.75912029e-07 1.76086295e-07 3.46248662e-12 1.73816571e-07]\n",
      " [1.75994748e-07 1.75970618e-07 1.73777341e-07 3.11809548e-12]]\n",
      "[[ 0.0136926   0.032415   -0.23902321 -0.21338362]\n",
      " [ 0.3082001   0.01846498 -0.22897869 -0.22445373]\n",
      " [-0.28877743 -0.26174009  0.01959736  0.00301832]\n",
      " [-0.27857338 -0.24525063  0.04731478  0.018854  ]]\n"
     ]
    }
   ],
   "source": [
    "print(M)\n",
    "print(C)"
   ]
  },
  {
   "cell_type": "markdown",
   "id": "10a861a5",
   "metadata": {},
   "source": [
    "## comm time in parallel stream with compute"
   ]
  },
  {
   "cell_type": "code",
   "execution_count": 7,
   "id": "603ddadb",
   "metadata": {},
   "outputs": [],
   "source": [
    "stream0 = torch.cuda.Stream(device=start_gpu)\n",
    "stream1 = torch.cuda.Stream(device=end_gpu)\n",
    "\n",
    "matrixA = torch.rand(5000,5000).to(start_gpu)\n",
    "matrixB = torch.rand(5000,5000).to(start_gpu)\n",
    "\n",
    "matrixC = torch.rand(5000,5000).to(end_gpu)\n",
    "matrixD = torch.rand(5000,5000).to(end_gpu)"
   ]
  },
  {
   "cell_type": "code",
   "execution_count": 8,
   "id": "c2d42d85",
   "metadata": {},
   "outputs": [],
   "source": [
    "######## For profiler #################\n",
    "from torch.profiler import profile, record_function, ProfilerActivity"
   ]
  },
  {
   "cell_type": "code",
   "execution_count": 9,
   "id": "c53f638a",
   "metadata": {},
   "outputs": [
    {
     "name": "stdout",
     "output_type": "stream",
     "text": [
      "1\n",
      "4\n",
      "8\n",
      "16\n",
      "32\n",
      "64\n",
      "128\n",
      "256\n",
      "1024\n",
      "2048\n",
      "4096\n",
      "8192\n"
     ]
    }
   ],
   "source": [
    "with profile(activities=[ProfilerActivity.CPU, ProfilerActivity.CUDA]) as prof:\n",
    "#if 1:\n",
    "    d = {}\n",
    "    for k in range(len(batch_size)):\n",
    "        #dummy = torch.rand((n*2500,10, 64))\n",
    "        print(batch_size[k])\n",
    "\n",
    "        times = []\n",
    "        for i in range(N):\n",
    "            start = torch.cuda.Event(enable_timing=True)\n",
    "            end = torch.cuda.Event(enable_timing=True)\n",
    "            \n",
    "            dummy = torch.rand((batch_size[k],300,300))\n",
    "            dsize = estimate_tensor_size(dummy)\n",
    "            dummy0 = dummy.to(start_gpu)\n",
    "            torch.cuda.synchronize(start_gpu);torch.cuda.synchronize(end_gpu);\n",
    "            \n",
    "            for _ in range(comp_size[k]):\n",
    "                matrixB = torch.matmul(matrixA,matrixB)\n",
    "            for _ in range(comp_size[k]):\n",
    "                matrixD = torch.matmul(matrixC,matrixD)\n",
    "\n",
    "            with torch.cuda.stream(stream0), torch.cuda.stream(stream1):\n",
    "                start.record()\n",
    "                dummy1 = dummy0.to(end_gpu)\n",
    "                end.record()\n",
    "            torch.cuda.synchronize(start_gpu);torch.cuda.synchronize(end_gpu);\n",
    "\n",
    "            times.append(start.elapsed_time(end))\n",
    "\n",
    "        comm_time = np.mean(times[round(N/4):])\n",
    "\n",
    "        del dummy1\n",
    "        del dummy0\n",
    "        torch.cuda.empty_cache()\n",
    "\n",
    "        d[dsize] = comm_time\n",
    "        \n",
    "prof.export_chrome_trace(\"traces/comm_time.json\")"
   ]
  },
  {
   "cell_type": "code",
   "execution_count": 10,
   "id": "0251b0fa",
   "metadata": {},
   "outputs": [
    {
     "data": {
      "text/plain": [
       "{360000.0: 0.11879466722408931,\n",
       " 1440000.0: 0.3092426657676697,\n",
       " 2880000.0: 0.55417600274086,\n",
       " 5760000.0: 1.0612586537996929,\n",
       " 11520000.0: 2.045893351236979,\n",
       " 23040000.0: 4.098229328791301,\n",
       " 46080000.0: 8.16590404510498,\n",
       " 92160000.0: 16.168165524800617,\n",
       " 368640000.0: 64.71069717407227,\n",
       " 737280000.0: 129.56707255045572,\n",
       " 1474560000.0: 260.3871815999349,\n",
       " 2949120000.0: 522.0422973632812}"
      ]
     },
     "execution_count": 10,
     "metadata": {},
     "output_type": "execute_result"
    }
   ],
   "source": [
    "d"
   ]
  },
  {
   "cell_type": "code",
   "execution_count": 17,
   "id": "ba8cad99",
   "metadata": {},
   "outputs": [
    {
     "data": {
      "image/png": "[encoded data removed]",
      "text/plain": [
       "<Figure size 432x288 with 1 Axes>"
      ]
     },
     "metadata": {
      "needs_background": "light"
     },
     "output_type": "display_data"
    }
   ],
   "source": [
    "import matplotlib.pylab as plt\n",
    "lists = sorted(d.items()) # sorted by key, return a list of tuples\n",
    "x, y = zip(*lists) # unpack a list of pairs into two tuples\n",
    "plt.plot(x[:5], y[:5], '-*')\n",
    "plt.show()"
   ]
  },
  {
   "cell_type": "code",
   "execution_count": 12,
   "id": "1fd30a6f",
   "metadata": {},
   "outputs": [
    {
     "data": {
      "text/plain": [
       "array([ 1.76917511e-07, -1.22709839e-01])"
      ]
     },
     "execution_count": 12,
     "metadata": {},
     "output_type": "execute_result"
    }
   ],
   "source": [
    "z = np.polyfit(x, y, 1)\n",
    "z"
   ]
  },
  {
   "cell_type": "code",
   "execution_count": 13,
   "id": "1f4fe51b",
   "metadata": {},
   "outputs": [
    {
     "data": {
      "text/plain": [
       "{360000.0: 0.11879466722408931,\n",
       " 1440000.0: 0.3092426657676697,\n",
       " 2880000.0: 0.55417600274086,\n",
       " 5760000.0: 1.0612586537996929,\n",
       " 11520000.0: 2.045893351236979,\n",
       " 23040000.0: 4.098229328791301,\n",
       " 46080000.0: 8.16590404510498,\n",
       " 92160000.0: 16.168165524800617,\n",
       " 368640000.0: 64.71069717407227,\n",
       " 737280000.0: 129.56707255045572,\n",
       " 1474560000.0: 260.3871815999349,\n",
       " 2949120000.0: 522.0422973632812}"
      ]
     },
     "execution_count": 13,
     "metadata": {},
     "output_type": "execute_result"
    }
   ],
   "source": [
    "d"
   ]
  },
  {
   "cell_type": "code",
   "execution_count": 14,
   "id": "653f7423",
   "metadata": {},
   "outputs": [
    {
     "data": {
      "text/plain": [
       "\"\\nConclusion: Running compute in parallel with communication stream doesn't afffect comm -time\\n\\n\""
      ]
     },
     "execution_count": 14,
     "metadata": {},
     "output_type": "execute_result"
    }
   ],
   "source": [
    "'''\n",
    "Conclusion: Running compute in parallel with communication stream doesn't afffect comm -time\n",
    "\n",
    "'''"
   ]
  }
 ],
 "metadata": {
  "kernelspec": {
   "display_name": "Python 3",
   "language": "python",
   "name": "python3"
  },
  "language_info": {
   "codemirror_mode": {
    "name": "ipython",
    "version": 3
   },
   "file_extension": ".py",
   "mimetype": "text/x-python",
   "name": "python",
   "nbconvert_exporter": "python",
   "pygments_lexer": "ipython3",
   "version": "3.6.13"
  }
 },
 "nbformat": 4,
 "nbformat_minor": 5
}
